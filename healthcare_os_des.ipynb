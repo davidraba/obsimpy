{
 "cells": [
  {
   "cell_type": "markdown",
   "metadata": {},
   "source": [
    "Over the last 30 or so years, I've built numerous healthcare discrete event simulation (DES) models. I built models as a student, as an analyst for several healthcare systems and consulting firms, and as a teacher and researcher at Oakland University. I've built models of inpatient units, pharmacies, pneumatic tube systems, outpatient clinics, surgical and recovery suites, emergency rooms and a whole bunch more. I've built models in several different commercial discrete event simulation languages/packages such as SIMAN, Arena, MedModel, and Simio. While each of these are very fine products, one thing that's always bothered me was how difficult to it was to share, review, and improve upon the models built by the healthcare simulation modeling community. These packages are really expensive often have pretty restrictive licensing. So, academics and practitioners publish articles describing how a simulation model of some healthcare related system (e.g. inpatient beds, pharmacy, lab, surgical suites...) was built and used in some project. Great. Inspiring. Not super helpful for the person looking to build a similar model, or better yet, build upon that same model. Models were rarely if ever made available and even if they were, might be written in a package that you don't have, don't know, or can't afford.\n",
    "\n",
    "As the years went on, I found myself more and more attracted to the world of open source software. I fell in love with Linux and R and Python. However, open source discrete event simulation options were not plentiful. I did have success building a pretty big pneumatic tube simulation model in Java using the Simkit library developed by [Arnie Buss and others at the Naval Postgraduate School](https://www.movesinstitute.org/research/simulation-modeling-for-analysis/). While I really like Simkit, I'm not a huge fan of programming in Java. Most of my research work and teaching is focused on R and Python and ideally would love to have a Python based DES framework. So, I was pretty happy when I stumbled onto the SimPy project and followed it for a bit as it moved through its early phases of growth and change. With SimPy 3.x now available, I decided to take the plunge and try to build some DES models for an ongoing research project involving simulating a simplified inpatient obstetrical patient flow network. I originally built the model in [Simio](http://hselab.org/comparing-predictive-models-for-obstetrical-unit-occupancy-using-caret-part-1.html). I describe the project in a bit of detail in a previous post on using the R package `caret` for building metamodels of simulation output.\n",
    "\n",
    "I decided to start by building SimPy models of overly simplified versions of this patient flow network. As my SimPy knowledge grew, I'd add more features to the model and overhaul its architecture. My goal is be able to build models of a similar complexity to the Java based pneumatic tube model. I'll also explore the ecosystem of Python tools that might be used alongside SimPy for things like model animation, logging and monitoring of simulation runs, simulation experiment management and management of simulation input and output data.\n",
    "\n",
    "If you aren't familiar with [SimPy](https://simpy.readthedocs.io/en/latest/), visit the main site and check out the documentation. It's got an overview, installation instructions, a basic tutorial, topic guide, example models and the API. Another site with some very nice network models and tutorials is [available from Grotto Networking](https://www.grotto-networking.com/DiscreteEventPython.html#Intro). Models in SimPy can range from purely process based with no object oriented (OO) features to almost fully OO based models.\n",
    "\n",
    "**Note:** This series of blog posts assumes some knowledge of DES modeling, Python, and SimPy. I'm not trying to teach you how to use SimPy in general, but instead to share my journey of building progressively move complex DES patient flow models in SimPy. In the end, I hope to end up with a nice set of models and accompanying explanatory text that others can use and build on."
   ]
  },
  {
   "cell_type": "markdown",
   "metadata": {},
   "source": [
    "## OB patient flow system to model\n",
    "Here's a picture of the simple system I'll be modeling.\n",
    "\n",
    "![](images/obflow.png)\n",
    "\n",
    "For this first set of simple models, features/assumptions of the system include:\n",
    "\n",
    "* Patients in labor arrive according to a poisson process\n",
    "* Assume c-section rate is zero and that all patients flow from OBS --> LDR --> PP units.\n",
    "* Length of stay at each unit is exponentially distributed with a given unit specific mean\n",
    "* Each unit has capacity level (i.e. the number of beds)\n",
    "\n",
    "I'm going to start by building the simplest model possible and then start layering on complexity and features."
   ]
  },
  {
   "cell_type": "markdown",
   "metadata": {},
   "source": [
    "## obflow_1: A Hello World level SimPy patient flow model\n",
    "\n",
    "For my first ever SimPy model I decided to model the system "
   ]
  }
 ],
 "metadata": {
  "anaconda-cloud": {},
  "kernelspec": {
   "display_name": "Python [conda env:hselab]",
   "language": "python",
   "name": "conda-env-hselab-py"
  },
  "language_info": {
   "codemirror_mode": {
    "name": "ipython",
    "version": 3
   },
   "file_extension": ".py",
   "mimetype": "text/x-python",
   "name": "python",
   "nbconvert_exporter": "python",
   "pygments_lexer": "ipython3",
   "version": "3.5.2"
  }
 },
 "nbformat": 4,
 "nbformat_minor": 2
}
